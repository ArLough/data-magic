{
 "cells": [
  {
   "cell_type": "code",
   "execution_count": 1,
   "id": "184d7eb4",
   "metadata": {},
   "outputs": [],
   "source": [
    "# imports\n",
    "import pandas as pd\n",
    "import numpy as np\n",
    "import tiktoken\n",
    "import openai\n",
    "from openai.embeddings_utils import get_embedding\n",
    "\n",
    "embedding_model = \"text-embedding-ada-002\"\n",
    "embedding_encoding = \"cl100k_base\"  # this the encoding for text-embedding-ada-002\n",
    "max_tokens = 8000  # the maximum for text-embedding-ada-002 is 8191"
   ]
  },
  {
   "cell_type": "code",
   "execution_count": 2,
   "id": "7507db4b",
   "metadata": {},
   "outputs": [],
   "source": [
    "# load & inspect dataset\n",
    "input_datapath = \"data/article.csv\"  # to save space, we provide a pre-filtered dataset\n",
    "df = pd.read_csv(input_datapath, index_col=0, encoding='windows-1254')\n",
    "#df = df[[\"Id\",Topic\", \"Heading\", \"Text\"]]\n",
    "#df = df.dropna()\n",
    "#df[\"combined\"] = (\n",
    "#    \"Title: \" + df.Heading.str.strip() + \"; Content: \" + df.Text.str.strip())"
   ]
  },
  {
   "cell_type": "code",
   "execution_count": 3,
   "id": "2a4979e1",
   "metadata": {},
   "outputs": [],
   "source": [
    "df[\"TH\"]=( \"Title: \" + df.Topic.str.strip() + \"; Content: \" + df.Heading.str.strip())"
   ]
  },
  {
   "cell_type": "code",
   "execution_count": 4,
   "id": "2ab2c347",
   "metadata": {},
   "outputs": [],
   "source": [
    "df[\"THX\"]=( \"Title: \" + df.Topic.str.strip() + \"; Content: \" + df.Heading.str.strip()+df.Text.str.strip())"
   ]
  },
  {
   "cell_type": "code",
   "execution_count": 5,
   "id": "659bdb11",
   "metadata": {},
   "outputs": [],
   "source": [
    "encoding = tiktoken.get_encoding(embedding_encoding)\n",
    "\n",
    "#df[\"n_tokens\"] = df.combined.apply(lambda x: len(encoding.encode(x)))\n",
    "#df = df[df.n_tokens <= max_tokens]"
   ]
  },
  {
   "cell_type": "code",
   "execution_count": 6,
   "id": "cfc163bd",
   "metadata": {},
   "outputs": [],
   "source": [
    "# Ensure you have your API key set in your environment per the README: https://github.com/openai/openai-python#usage\n",
    "\n",
    "# This may take a few minutes\n",
    "df[\"embedding\"] = df.TH.apply(lambda x: get_embedding(x, engine=embedding_model))\n",
    "df.to_csv(\"data/article_with_embeddings.csv\",index=False)"
   ]
  },
  {
   "cell_type": "code",
   "execution_count": null,
   "id": "e219ed90",
   "metadata": {},
   "outputs": [],
   "source": [
    "#No run\n",
    "datafile_path = \"data/article_with_embeddings.csv\"\n",
    "\n",
    "df = pd.read_csv(datafile_path)\n",
    "df[\"embedding\"] = df.embedding.apply(eval).apply(np.array)\n",
    "df.to_csv(\"data/article_with_embeddings.csv\",index=False)"
   ]
  },
  {
   "cell_type": "code",
   "execution_count": 19,
   "id": "57e5cf04",
   "metadata": {},
   "outputs": [],
   "source": [
    "from openai.embeddings_utils import get_embedding, cosine_similarity\n",
    "\n",
    "# search through the articles for a specific topic\n",
    "def search_article(df, problem, n=8):\n",
    "    problem_embedding = get_embedding(\n",
    "        problem,\n",
    "        engine=\"text-embedding-ada-002\"\n",
    "    )\n",
    "    df[\"similarity\"] = df.embedding.apply(lambda x: cosine_similarity(x, problem_embedding))\n",
    "\n",
    "    results = (\n",
    "        df.sort_values(\"similarity\", ascending=False)\n",
    "        .head(n)\n",
    "    )\n",
    "    \n",
    "    return results\n",
    "\n",
    "\n",
    "results = search_article(df, \"What is the best path forward for the continued development and implementation of Abandoned Farmland Restoration to effectively mitigate the effects of climate change? What steps need to be taken to ensure that this technology is adopted on a large scale and is effective? Be as specific as possible using scientific facts and numerical statistics to support your claims. List any companies and organizations that have been at the forefront of this solution. News articles that address these lessons will be very helpful. Cite your sources if possible.\", n=8)\n"
   ]
  },
  {
   "cell_type": "code",
   "execution_count": 20,
   "id": "4324815c",
   "metadata": {},
   "outputs": [
    {
     "name": "stdout",
     "output_type": "stream",
     "text": [
      "                                         Topic  \\\n",
      "Id                                               \n",
      "16  Best-Case Outcome for Farmland Restoration   \n",
      "18  Best-Case Outcome for Farmland Restoration   \n",
      "20  Best-Case Outcome for Farmland Restoration   \n",
      "5              Why Restore Abandoned Farmland?   \n",
      "17  Best-Case Outcome for Farmland Restoration   \n",
      "19  Best-Case Outcome for Farmland Restoration   \n",
      "4              Why Restore Abandoned Farmland?   \n",
      "2              Why Restore Abandoned Farmland?   \n",
      "\n",
      "                                              Heading  \\\n",
      "Id                                                      \n",
      "16  In the best case scenario, these abandoned far...   \n",
      "18  Around?31% of farmland is considered abandoned...   \n",
      "20  Once those landowners are on board, people hav...   \n",
      "5   Certain organisations have already pledged to ...   \n",
      "17  Some of the soil in abandoned farmland might n...   \n",
      "19      How likely is this outcome to happen, though?   \n",
      "4   Farmland restoration is also a great way to su...   \n",
      "2   These abandoned farmlands can be revived and u...   \n",
      "\n",
      "                                                 Text  \\\n",
      "Id                                                      \n",
      "16  They¡¯ll provide all sorts of crops and meat t...   \n",
      "18  The world could produce that same percentage m...   \n",
      "20  Not every farm will pass the test due to nutri...   \n",
      "5   Hunger can be solved in the US and worldwide i...   \n",
      "17  Still, building new farms atop these abandoned...   \n",
      "19  Landowners that don¡¯t want to farm could leas...   \n",
      "4   Since the Covid-19 pandemic, more families hav...   \n",
      "2   These abandoned farmlands can be revived and u...   \n",
      "\n",
      "                                                   TH  \\\n",
      "Id                                                      \n",
      "16  Title: Best-Case Outcome for Farmland Restorat...   \n",
      "18  Title: Best-Case Outcome for Farmland Restorat...   \n",
      "20  Title: Best-Case Outcome for Farmland Restorat...   \n",
      "5   Title: Why Restore Abandoned Farmland?; Conten...   \n",
      "17  Title: Best-Case Outcome for Farmland Restorat...   \n",
      "19  Title: Best-Case Outcome for Farmland Restorat...   \n",
      "4   Title: Why Restore Abandoned Farmland?; Conten...   \n",
      "2   Title: Why Restore Abandoned Farmland?; Conten...   \n",
      "\n",
      "                                                  THX  \\\n",
      "Id                                                      \n",
      "16  Title: Best-Case Outcome for Farmland Restorat...   \n",
      "18  Title: Best-Case Outcome for Farmland Restorat...   \n",
      "20  Title: Best-Case Outcome for Farmland Restorat...   \n",
      "5   Title: Why Restore Abandoned Farmland?; Conten...   \n",
      "17  Title: Best-Case Outcome for Farmland Restorat...   \n",
      "19  Title: Best-Case Outcome for Farmland Restorat...   \n",
      "4   Title: Why Restore Abandoned Farmland?; Conten...   \n",
      "2   Title: Why Restore Abandoned Farmland?; Conten...   \n",
      "\n",
      "                                            embedding  similarity  \n",
      "Id                                                                 \n",
      "16  [0.01322497334331274, -0.0315374992787838, 0.0...    0.872955  \n",
      "18  [0.025641784071922302, -0.018424097448587418, ...    0.867619  \n",
      "20  [0.01456733513623476, -0.014418274164199829, 0...    0.864109  \n",
      "5   [0.018987078219652176, -0.03585576266050339, 0...    0.862784  \n",
      "17  [0.007558418903499842, -0.01985989511013031, 0...    0.861614  \n",
      "19  [0.011671869084239006, -0.02080666646361351, 0...    0.858655  \n",
      "4   [0.022444218397140503, -0.02528229169547558, 0...    0.855135  \n",
      "2   [0.017439475283026695, -0.013250324875116348, ...    0.852630  \n"
     ]
    }
   ],
   "source": [
    "print(results)"
   ]
  },
  {
   "cell_type": "code",
   "execution_count": 21,
   "id": "c8421233",
   "metadata": {},
   "outputs": [],
   "source": [
    "def query_message(\n",
    "    query: str,\n",
    "    df: pd.DataFrame) -> str:\n",
    "    \"\"\"Return a message for GPT, with relevant source texts pulled from a dataframe.\"\"\"\n",
    "    query=\"What is the best path forward for the continued development and implementation of Abandoned Farmland Restoration to effectively mitigate the effects of climate change? What steps need to be taken to ensure that this technology is adopted on a large scale and is effective? Be as specific as possible using scientific facts and numerical statistics to support your claims. List any companies and organizations that have been at the forefront of this solution. News articles that address these lessons will be very helpful. Cite your sources if possible.\"\n",
    "\n",
    "    message = 'Use the below articles to answer the subsequent question.'\n",
    "    question = f\"\\n\\nQuestion: {query}\"\n",
    "    \n",
    "    for index, row in df.iterrows():\n",
    "        #print(row['THX'])\n",
    "        message += row['THX']\n",
    "    \n",
    "    return message + question"
   ]
  },
  {
   "cell_type": "code",
   "execution_count": 22,
   "id": "218edbf5",
   "metadata": {},
   "outputs": [],
   "source": [
    "def ask(\n",
    "    query: str,\n",
    "    df: pd.DataFrame = results) -> str:\n",
    "    \"\"\"Answers a query using GPT and a dataframe of relevant texts and embeddings.\"\"\"\n",
    "    message = query_message(query,df)\n",
    "    messages = [\n",
    "        {\"role\": \"system\", \"content\": \"You answer questions.\"},\n",
    "        {\"role\": \"user\", \"content\": message},\n",
    "    ]\n",
    "    print(messages)\n",
    "    response = openai.ChatCompletion.create(\n",
    "        model=\"gpt-3.5-turbo\",\n",
    "        messages=messages,\n",
    "        temperature=0\n",
    "    )\n",
    "    response_message = response[\"choices\"][0][\"message\"][\"content\"]\n",
    "    return response_message"
   ]
  },
  {
   "cell_type": "code",
   "execution_count": 23,
   "id": "bc04b57e",
   "metadata": {},
   "outputs": [
    {
     "name": "stdout",
     "output_type": "stream",
     "text": [
      "[{'role': 'system', 'content': 'You answer questions.'}, {'role': 'user', 'content': 'Use the below articles to answer the subsequent question.Title: Best-Case Outcome for Farmland Restoration; Content: In the best case scenario, these abandoned farmland restoration projects will turn into flourishing opportunities for food for everyone.?They¡¯ll provide all sorts of crops and meat to families that are hurting ¨C but there is a chance this outcome may not happen.Title: Best-Case Outcome for Farmland Restoration; Content: Around?31% of farmland is considered abandoned?worldwide.?The world could produce that same percentage more food if those farms could be rejuvenated and filled. That would be enough to feed more hungry families and ensure food insecurity is on its way out. Solving world hunger is one way to ensure everyone has a happy, long life and doesn¡¯t have to worry about where their next meal comes from.Title: Best-Case Outcome for Farmland Restoration; Content: Once those landowners are on board, people have to test the farmland to ensure it¡¯s suitable for crops and grazing.Not every farm will pass the test due to nutrition-less soil. Still, society may be able to use farmland that isn¡¯t good for growing as a place to raise livestock for meat stores.Title: Why Restore Abandoned Farmland?; Content: Certain organisations have already pledged to end hunger, thanks to rapid changes in?how food can be grown?and produced.Hunger can be solved in the US and worldwide if society actively chooses to implement fundamental changes using new technology and operate sustainably by reusing old, abandoned farmland.Title: Best-Case Outcome for Farmland Restoration; Content: Some of the soil in abandoned farmland might not be good for use anymore, meaning nothing will grow from it, no matter how hard someone tries.Still, building new farms atop these abandoned ones is worth a shot due to how much benefit it could provide the country. Turning something unused into something that can help people ¨C like the Houston solar farm ¨C is a great way to give back to the world.Title: Best-Case Outcome for Farmland Restoration; Content: How likely is this outcome to happen, though?Landowners that don¡¯t want to farm could lease it out to farmers,?provided they would receive a financial?incentive to use their unused land. If people who own farmland don¡¯t want to lease or sell it for the greater good, money could speak to them.Title: Why Restore Abandoned Farmland?; Content: Farmland restoration is also a great way to support farmers and ensure there¡¯s enough food to go around.Since the Covid-19 pandemic, more families have found it harder to get food. In the US for example, about two in five households on average are not getting enough and are considered food insecure.Title: Why Restore Abandoned Farmland?; Content: These abandoned farmlands can be revived and used for working farms instead of mowing down new primary forests.These abandoned farmlands can be revived and used for working farms instead of mowing down new primary forests.?Deforestation adds carbon dioxide to the atmosphere, destabilises soils and increases the likelihood of erosion, which means pollutants can enter nearby water.?That way, less deforestation has to occur, and no one will have to worry about the carbon emissions that?soil can release into the atmosphere?when left alone.\\n\\nQuestion: What is the best path forward for the continued development and implementation of Abandoned Farmland Restoration to effectively mitigate the effects of climate change? What steps need to be taken to ensure that this technology is adopted on a large scale and is effective? Be as specific as possible using scientific facts and numerical statistics to support your claims. List any companies and organizations that have been at the forefront of this solution. News articles that address these lessons will be very helpful. Cite your sources if possible.'}]\n"
     ]
    },
    {
     "data": {
      "text/plain": [
       "'The best path forward for the continued development and implementation of Abandoned Farmland Restoration to effectively mitigate the effects of climate change is to encourage landowners to lease or sell their unused land for farming, provide financial incentives for farmers to use abandoned farmland, and use new technology to operate sustainably. According to the article \"Best-Case Outcome for Farmland Restoration,\" around 31% of farmland is considered abandoned worldwide, and if those farms could be rejuvenated and filled, the world could produce that same percentage more food, which would be enough to feed more hungry families and ensure food insecurity is on its way out. \\n\\nTo ensure that this technology is adopted on a large scale and is effective, steps need to be taken to test the farmland to ensure it\\'s suitable for crops and grazing, and if the soil is not good for growing, it can be used as a place to raise livestock for meat stores. Additionally, companies and organizations such as those mentioned in the article \"Why Restore Abandoned Farmland?\" have already pledged to end hunger, thanks to rapid changes in how food can be grown and produced. \\n\\nFurthermore, abandoned farmland restoration is a great way to support farmers and ensure there\\'s enough food to go around, especially since the Covid-19 pandemic has made it harder for more families to get food. According to the same article, in the US, about two in five households on average are not getting enough and are considered food insecure. \\n\\nIn conclusion, the best path forward for the continued development and implementation of Abandoned Farmland Restoration to effectively mitigate the effects of climate change is to encourage landowners to lease or sell their unused land for farming, provide financial incentives for farmers to use abandoned farmland, and use new technology to operate sustainably. Companies and organizations such as those mentioned in the articles \"Best-Case Outcome for Farmland Restoration\" and \"Why Restore Abandoned Farmland?\" have already pledged to end hunger and support farmers through abandoned farmland restoration.'"
      ]
     },
     "execution_count": 23,
     "metadata": {},
     "output_type": "execute_result"
    }
   ],
   "source": [
    "ask(\"What is the best path forward for the continued development and implementation of Abandoned Farmland Restoration to effectively mitigate the effects of climate change? What steps need to be taken to ensure that this technology is adopted on a large scale and is effective? Be as specific as possible using scientific facts and numerical statistics to support your claims. List any companies and organizations that have been at the forefront of this solution.\")"
   ]
  },
  {
   "cell_type": "code",
   "execution_count": null,
   "id": "78e485ca",
   "metadata": {},
   "outputs": [],
   "source": []
  }
 ],
 "metadata": {
  "kernelspec": {
   "display_name": "eods-s22",
   "language": "python",
   "name": "eods-s22"
  },
  "language_info": {
   "codemirror_mode": {
    "name": "ipython",
    "version": 3
   },
   "file_extension": ".py",
   "mimetype": "text/x-python",
   "name": "python",
   "nbconvert_exporter": "python",
   "pygments_lexer": "ipython3",
   "version": "3.9.9"
  }
 },
 "nbformat": 4,
 "nbformat_minor": 5
}
